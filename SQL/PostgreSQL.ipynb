{
 "cells": [
  {
   "attachments": {},
   "cell_type": "markdown",
   "metadata": {},
   "source": [
    "# PostgreSQL"
   ]
  },
  {
   "attachments": {},
   "cell_type": "markdown",
   "metadata": {},
   "source": [
    "## Data Types"
   ]
  },
  {
   "attachments": {},
   "cell_type": "markdown",
   "metadata": {},
   "source": [
    "- String fields\n",
    "\n",
    "CHAR(n): allocates the entire space (faster for small strings)\n",
    "\n",
    "VARCHAR(n): variable space depending on the length\n",
    "\n",
    "\n",
    "- Text fields (small and large)\n",
    "\n",
    "TEXT\n",
    "\n",
    "- Binary fields (small and large)\n",
    "\n",
    "- Numeric fields\n",
    "\n",
    "- AUTO_INCREMENT fields\n",
    "\n"
   ]
  },
  {
   "attachments": {},
   "cell_type": "markdown",
   "metadata": {},
   "source": [
    "# SQL statements"
   ]
  },
  {
   "cell_type": "code",
   "execution_count": null,
   "metadata": {},
   "outputs": [],
   "source": [
    "CREATE TABLE table1 (\n",
    "    id SERIAL,\n",
    "    record INTEGER UNIQUE,\n",
    "    name VARCHAR(4096),\n",
    "    note VARCHAR(8192),\n",
    "    email VARCHAR(4096),\n",
    "    number FLOAT,\n",
    "    time TIMESTAMP DEFAULT CURRENT_TIMESTAMP,\n",
    "    PRIMARY KEY(id)\n",
    ");"
   ]
  },
  {
   "cell_type": "code",
   "execution_count": null,
   "metadata": {},
   "outputs": [],
   "source": [
    "INSERT INTO table1 (id,name) values(1,'a'),(2,'b'),(3,'b');\n",
    "DELETE FROM table1 WHERE id=1;\n",
    "UPDATE table1 SET note='set value' WHERE id=1;\n",
    "SELECT * FROM table1 WHERE id=1 ORDER BY record;\n",
    "SELECT * FROM table1 WHERE name LIKE '%e%' ORDER BY record;\n",
    "SELECT * FROM talbe1 ORDER BY email DESC OFFSET 1 LIMIT 2;\n",
    "SELECT COUNT(*) FROM table1;\n",
    "SELECT COUNT(*) FROM table1 WHERE email='abc@123.edu';"
   ]
  },
  {
   "cell_type": "code",
   "execution_count": null,
   "metadata": {},
   "outputs": [],
   "source": []
  }
 ],
 "metadata": {
  "language_info": {
   "name": "python"
  },
  "orig_nbformat": 4
 },
 "nbformat": 4,
 "nbformat_minor": 2
}
