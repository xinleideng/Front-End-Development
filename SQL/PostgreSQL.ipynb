{
 "cells": [
  {
   "attachments": {},
   "cell_type": "markdown",
   "metadata": {},
   "source": [
    "# PostgreSQL"
   ]
  },
  {
   "cell_type": "code",
   "execution_count": null,
   "metadata": {
    "vscode": {
     "languageId": "sql"
    }
   },
   "outputs": [],
   "source": [
    "psql -h pg.pg4e.com -p 5432 -U pg4e_17b470a9f4 pg4e_17b470a9f4\n",
    "#pg4e_p_d4f190cd0792dec\n",
    "\n",
    "CREATE USER pg4e WITH PASSWORD 'secret';\n",
    "\n",
    "\\l #list all database\n",
    "\n",
    "CREATE DATABASE people WITH OWNER 'pg4e';\n",
    "\n",
    "psql people pg4e\n",
    "\n",
    "\\dt # show tables under owner\n",
    "\\d+ table1 # show schema of a table\n",
    "\\q #quite"
   ]
  },
  {
   "attachments": {},
   "cell_type": "markdown",
   "metadata": {},
   "source": [
    "## Data Types"
   ]
  },
  {
   "attachments": {},
   "cell_type": "markdown",
   "metadata": {},
   "source": [
    "- String fields\n",
    "\n",
    "CHAR(n): allocates the entire space (faster for small strings)\n",
    "\n",
    "VARCHAR(n): variable space depending on the length\n",
    "\n",
    "\n",
    "- Text fields (small and large)\n",
    "\n",
    "TEXT\n",
    "\n",
    "- Binary fields (small and large, rarely used)\n",
    "\n",
    "BYTEA(n): up to 255 bytes, small images, not indexed/sorted\n",
    "\n",
    "\n",
    "- Numeric fields\n",
    "\n",
    "SMALLINT (-32768,+32768)\n",
    "\n",
    "INTEGER (2 Billion)\n",
    "\n",
    "BIGINT -(10**18 ish)\n",
    "\n",
    "REAL (32-bit) 10**38 with 7 digits of accuracy\n",
    "\n",
    "DOUBLE PRECISION (64-bit) 10**308 with 14 digits of accuracy\n",
    "\n",
    "NUMERIC(accuracy, decimal) Specified\n",
    "\n",
    "TIMESTAMP -'YYYY-MM-DD HH:MM:SS'\n",
    "\n",
    "DATE-'YYYY-MM-DD'\n",
    "\n",
    "TIME -'HH:MM:SS'\n",
    "\n",
    "Built-in PostgreSQL function NOW()\n",
    "\n",
    "- AUTO_INCREMENT fields\n",
    "\n",
    "SERIAL"
   ]
  },
  {
   "attachments": {},
   "cell_type": "markdown",
   "metadata": {},
   "source": [
    "B-Trees: match, order, sort, prefix match | read and write large blocks of data (UNIQUE) \n",
    "\n",
    "Hashes: MD5 SHA1 SHA256 | find, compare, exact match (type: primary key)"
   ]
  },
  {
   "attachments": {},
   "cell_type": "markdown",
   "metadata": {},
   "source": [
    "# SQL statements"
   ]
  },
  {
   "cell_type": "code",
   "execution_count": null,
   "metadata": {
    "vscode": {
     "languageId": "sql"
    }
   },
   "outputs": [],
   "source": [
    "CREATE TABLE table1 (\n",
    "    id SERIAL,\n",
    "    record INTEGER UNIQUE,\n",
    "    name VARCHAR(4096) NOT NULL,\n",
    "    note VARCHAR(8192),\n",
    "    email VARCHAR(4096),\n",
    "    number FLOAT,\n",
    "    time TIMESTAMP DEFAULT CURRENT_TIMESTAMP,\n",
    "    PRIMARY KEY(id)\n",
    ");\n",
    "\n"
   ]
  },
  {
   "cell_type": "code",
   "execution_count": null,
   "metadata": {
    "vscode": {
     "languageId": "sql"
    }
   },
   "outputs": [],
   "source": [
    "INSERT INTO table1 (id,name) values(1,'a'),(2,'b'),(3,'b');\n",
    "DELETE FROM table1 WHERE id=1;\n",
    "UPDATE table1 SET note='set value' WHERE id=1;\n",
    "SELECT * FROM table1 WHERE id=1 ORDER BY record;\n",
    "SELECT * FROM table1 WHERE name LIKE '%e%' ORDER BY record;\n",
    "SELECT * FROM talbe1 ORDER BY email DESC OFFSET 1 LIMIT 2;\n",
    "SELECT COUNT(*) FROM table1;\n",
    "SELECT COUNT(*) FROM table1 WHERE email='abc@123.edu';\n",
    "DROP TABLE table1;"
   ]
  },
  {
   "cell_type": "code",
   "execution_count": null,
   "metadata": {
    "vscode": {
     "languageId": "sql"
    }
   },
   "outputs": [],
   "source": [
    "wget https://www.pg4e.com/tools/sql/library.csv\n",
    "curl -O https://www.pg4e.com/tools/sql/library.csv\n",
    "CREATE TABLE track_raw\n",
    " (title TEXT, artist TEXT, album TEXT,\n",
    "  count INTEGER, rating INTEGER, len INTEGER);\n",
    "\\copy track_raw(title,artist,album,count,rating,len) FROM 'library.csv' WITH DELIMITER ',' CSV;\n",
    "SELECT title, album FROM track_raw ORDER BY title LIMIT 3;"
   ]
  },
  {
   "attachments": {},
   "cell_type": "markdown",
   "metadata": {},
   "source": [
    "# Database Design"
   ]
  },
  {
   "attachments": {},
   "cell_type": "markdown",
   "metadata": {},
   "source": [
    "- Three keys\n",
    "\n",
    "Primary key: generally an integer auto-increment field\n",
    "\n",
    "Logical key: what the outside world uses for look up (string type mostly)\n",
    "\n",
    "Foreign key: generally an integer key pointing to a row in another table"
   ]
  },
  {
   "attachments": {},
   "cell_type": "markdown",
   "metadata": {},
   "source": [
    "## Database Normalization (3NF)\n",
    "\n",
    "Do not replicate data\n",
    "\n",
    "Use integer for keys\n",
    "\n",
    "Add a special \"key\" column to each table, which you will make references to\n",
    "\n"
   ]
  },
  {
   "cell_type": "code",
   "execution_count": null,
   "metadata": {
    "vscode": {
     "languageId": "sql"
    }
   },
   "outputs": [],
   "source": [
    "CREATE TABLE artist(\n",
    "    id SERIAL,\n",
    "    name VARCHAR(128) UNIQUE,\n",
    "    PRIMARY KEY (id)\n",
    "    );\n",
    "\n",
    "CREATE TABLE album(\n",
    "    id SERIAL,\n",
    "    title VARCHAR(128) UNIQUE,\n",
    "    artist_id INTERGER REFERENCES artist(id) ON DELETE CASCADE,\n",
    "    PRIMARY KEY(id)\n",
    ")"
   ]
  },
  {
   "attachments": {},
   "cell_type": "markdown",
   "metadata": {},
   "source": [
    "![CREATE genre and track tables][fig/SQL genre track tables.png]"
   ]
  },
  {
   "attachments": {},
   "cell_type": "markdown",
   "metadata": {},
   "source": []
  }
 ],
 "metadata": {
  "kernelspec": {
   "display_name": "base",
   "language": "python",
   "name": "python3"
  },
  "language_info": {
   "name": "python",
   "version": "3.9.12"
  },
  "orig_nbformat": 4
 },
 "nbformat": 4,
 "nbformat_minor": 2
}
